{
 "cells": [
  {
   "cell_type": "markdown",
   "metadata": {},
   "source": [
    "<img src=\"./logo_UTN.svg\" align=\"right\" width=\"150\" /> \n",
    "#### Procesamiento Digital de Señales\n",
    "\n",
    "# Trabajo Práctico Nº0\n",
    "### Gabriel Cruz\n"
   ]
  },
  {
   "cell_type": "markdown",
   "metadata": {},
   "source": [
    "# Introducción\n",
    "Jupyter Notebook es una herramienta para la confección de reportes técnicos, dado que permite la interacción en el mismo ambiente de: \n",
    "1. un procesador de texto elemental (formato Markdown) que permite resaltar texto, en forma de *itálica* o **negrita** de manera muy legible (haciendo doble click en este texto podrás ver el código fuente estilo Markdown). Cuenta con estilos predefinidos:\n",
    "\n",
    "# PDS1\n",
    "## PDS2\n",
    "###  PDS\n",
    "\n",
    "y también la capacidad de incluir enlaces a otras páginas, como por ejemplo [esta página](https://medium.com/ibm-data-science-experience/markdown-for-jupyter-notebooks-cheatsheet-386c05aeebed) donde encontrarás más funcionalidades del lenguaje **Markdown**\n",
    "\n",
    "2. capacidad para incluir lenguaje matemático estilo LaTex, tanto de forma presentada\n",
    "\n",
    "\\begin{equation}\n",
    "T(z) = \\frac{Y(z)}{X(z)} = \\frac{ b_2 \\, z^{-2} + b_1 \\,  z^{-1} + b_0 }\n",
    "{a_2 \\, z^{-2} + a_1 \\,  z^{-1} + a_0}\n",
    "\\end{equation}\n",
    "\n",
    "como *inline* en el propio párrafo $y[k] = \\frac{1}{a_0} \\left( \\sum_{m=0}^{M} b_m \\; x[k-m] - \\sum_{n=1}^{N} a_n \\; y[k-n] \\right) $\n",
    "\n",
    "3. **La posibilidad de incluir scripts en Python**, como los que usaremos para las simulaciones en los TPs de la materia. En este caso usaremos el *testbench0.py* como ejemplo. Una vez que lo probamos y estamos seguros que funciona de forma esperada en *Spyder*, podemos incluir los resultados de la simulación de manera casi transparente. Solo tenemos que agregar una celda de código donde incluimos el código, y los resultados directamente quedan incluidos en este documento."
   ]
  },
  {
   "cell_type": "code",
   "execution_count": 1,
   "metadata": {},
   "outputs": [
    {
     "ename": "ModuleNotFoundError",
     "evalue": "No module named 'pdsmodulos'",
     "output_type": "error",
     "traceback": [
      "\u001b[0;31m---------------------------------------------------------------------------\u001b[0m",
      "\u001b[0;31mModuleNotFoundError\u001b[0m                       Traceback (most recent call last)",
      "Cell \u001b[0;32mIn[1], line 13\u001b[0m\n\u001b[1;32m     10\u001b[0m mpl\u001b[38;5;241m.\u001b[39mrcParams[\u001b[38;5;124m'\u001b[39m\u001b[38;5;124mfigure.figsize\u001b[39m\u001b[38;5;124m'\u001b[39m] \u001b[38;5;241m=\u001b[39m (\u001b[38;5;241m10\u001b[39m,\u001b[38;5;241m10\u001b[39m)\n\u001b[1;32m     12\u001b[0m \u001b[38;5;28;01mimport\u001b[39;00m \u001b[38;5;21;01mmatplotlib\u001b[39;00m\u001b[38;5;21;01m.\u001b[39;00m\u001b[38;5;21;01mpyplot\u001b[39;00m \u001b[38;5;28;01mas\u001b[39;00m \u001b[38;5;21;01mplt\u001b[39;00m\n\u001b[0;32m---> 13\u001b[0m \u001b[38;5;28;01mimport\u001b[39;00m \u001b[38;5;21;01mpdsmodulos\u001b[39;00m \u001b[38;5;28;01mas\u001b[39;00m \u001b[38;5;21;01mpds\u001b[39;00m\n\u001b[1;32m     15\u001b[0m \u001b[38;5;66;03m#%% Esto tiene que ver con cuestiones de presentación de los gráficos,\u001b[39;00m\n\u001b[1;32m     16\u001b[0m \u001b[38;5;66;03m# NO ES IMPORTANTE\u001b[39;00m\n\u001b[1;32m     17\u001b[0m fig_sz_x \u001b[38;5;241m=\u001b[39m \u001b[38;5;241m14\u001b[39m\n",
      "\u001b[0;31mModuleNotFoundError\u001b[0m: No module named 'pdsmodulos'"
     ]
    }
   ],
   "source": [
    "# Módulos para Jupyter\n",
    "import warnings\n",
    "warnings.filterwarnings('ignore')\n",
    "\n",
    "import numpy as np\n",
    "import matplotlib as mpl\n",
    "#%%  Inicialización de librerías\n",
    "# Setup inline graphics: Esto lo hacemos para que el tamaño de la salida, \n",
    "# sea un poco más adecuada al tamaño del documento\n",
    "mpl.rcParams['figure.figsize'] = (10,10)\n",
    "\n",
    "import matplotlib.pyplot as plt\n",
    "import pdsmodulos as pds\n",
    "\n",
    "#%% Esto tiene que ver con cuestiones de presentación de los gráficos,\n",
    "# NO ES IMPORTANTE\n",
    "fig_sz_x = 14\n",
    "fig_sz_y = 13\n",
    "fig_dpi = 80 # dpi\n",
    "\n",
    "fig_font_family = 'Ubuntu'\n",
    "fig_font_size = 16\n",
    "\n",
    "plt.rcParams.update({'font.size':fig_font_size})\n",
    "plt.rcParams.update({'font.family':fig_font_family})\n",
    "\n",
    "##############################################\n",
    "#%% A partir de aquí comienza lo IMPORTANTE #\n",
    "#############################################\n",
    "\n",
    "def my_testbench( sig_type ):\n",
    "    \n",
    "    # Datos generales de la simulación\n",
    "    fs = 1000.0 # frecuencia de muestreo (Hz)\n",
    "    N = 1000   # cantidad de muestras\n",
    "    \n",
    "    ts = 1/fs # tiempo de muestreo\n",
    "    df = fs/N # resolución espectral\n",
    "    \n",
    "    # grilla de sampleo temporal\n",
    "    tt = np.linspace(0, (N-1)*ts, N).flatten()\n",
    "    \n",
    "    # grilla de sampleo frecuencial\n",
    "    ff = np.linspace(0, (N-1)*df, N).flatten()\n",
    "\n",
    "    # Concatenación de matrices:\n",
    "    # guardaremos las señales creadas al ir poblando la siguiente matriz vacía\n",
    "    x = np.array([], dtype=np.float).reshape(N,0)\n",
    "    ii = 0\n",
    "    \n",
    "    # estructuras de control de flujo\n",
    "    if sig_type['tipo'] == 'senoidal':\n",
    "    \n",
    "        \n",
    "        # calculo cada senoidal de acuerdo a sus parámetros\n",
    "        for this_freq in sig_type['frecuencia']:\n",
    "            # prestar atención que las tuplas dentro de los diccionarios también pueden direccionarse mediante \"ii\"\n",
    "            aux = sig_type['amplitud'][ii] * np.sin( 2*np.pi*this_freq*tt + sig_type['fase'][ii] )\n",
    "            # para concatenar horizontalmente es necesario cuidar que tengan iguales FILAS\n",
    "            x = np.hstack([x, aux.reshape(N,1)] )\n",
    "            ii += 1\n",
    "    \n",
    "    elif sig_type['tipo'] == 'ruido':\n",
    "        \n",
    "        # calculo cada señal de ruido incorrelado (blanco), Gausiano de acuerdo a sus parámetros\n",
    "        # de varianza\n",
    "        for this_var in sig_type['varianza']:\n",
    "            aux = np.sqrt(this_var) * np.random.randn(N,1)\n",
    "            # para concatenar horizontalmente es necesario cuidar que tengan iguales FILAS\n",
    "            x = np.hstack([x, aux] )\n",
    "        \n",
    "        # Podemos agregar algún dato extra a la descripción de forma programática\n",
    "        # {0:.3f} significa 0: primer argunmento de format\n",
    "        # .3f formato flotante, con 3 decimales\n",
    "        # $ ... $ indicamos que incluiremos sintaxis LaTex: $\\hat{{\\sigma}}^2$\n",
    "        sig_props['descripcion'] = [ sig_props['descripcion'][ii] + ' - $\\hat{{\\sigma}}^2$ :{0:.3f}'.format( np.var(x[:,ii]))  for ii in range(0,len(sig_props['descripcion'])) ]\n",
    "    \n",
    "    else:\n",
    "        \n",
    "        print(\"Tipo de señal no implementado.\")        \n",
    "        return\n",
    "        \n",
    "    #%% Presentación gráfica de los resultados\n",
    "    \n",
    "    plt.figure(1)\n",
    "    line_hdls = plt.plot(tt, x)\n",
    "    plt.title('Señal: ' + sig_type['tipo'] )\n",
    "    plt.xlabel('tiempo [segundos]')\n",
    "    plt.ylabel('Amplitud [V]')\n",
    "    #    plt.grid(which='both', axis='both')\n",
    "    \n",
    "    # presentar una leyenda para cada tipo de señal\n",
    "    axes_hdl = plt.gca()\n",
    "    \n",
    "    # este tipo de sintaxis es *MUY* de Python\n",
    "    axes_hdl.legend(line_hdls, sig_type['descripcion'], loc='upper right'  )\n",
    "    \n",
    "    plt.show()\n"
   ]
  },
  {
   "cell_type": "markdown",
   "metadata": {},
   "source": [
    "Dado que nuestro *testbench* ha sido desarrollado de manera funcional, llamando a la función *my_testbench()* con diferentes parámetros, podemos lograr funcionalidades diferentes, como mostramos a continuación primero con una senoidal:"
   ]
  },
  {
   "cell_type": "code",
   "execution_count": null,
   "metadata": {},
   "outputs": [],
   "source": [
    "sig_props = { 'tipo': 'senoidal', \n",
    "              'frecuencia': (3, 10, 20), # Uso de tuplas para las frecuencias \n",
    "              'amplitud':   (1, 1,  1),\n",
    "              'fase':       (0, 0,  0)\n",
    "             } \n",
    "# Como también puedo agregar un campo descripción de manera programática\n",
    "# este tipo de sintaxis es *MUY* de Python\n",
    "sig_props['descripcion'] = [ str(a_freq) + ' Hz' for a_freq in sig_props['frecuencia'] ]\n",
    "    \n",
    "# Invocamos a nuestro testbench exclusivamente: \n",
    "my_testbench( sig_props )"
   ]
  },
  {
   "cell_type": "markdown",
   "metadata": {},
   "source": [
    "Y ahora con una señal aleatoria, en este caso ruido blanco Gaussiano incorrelado de varianza $\\sigma^2$:"
   ]
  },
  {
   "cell_type": "code",
   "execution_count": null,
   "metadata": {},
   "outputs": [],
   "source": [
    "# Usar CTRL+1 para comentar o descomentar el bloque de abajo.\n",
    "sig_props = { 'tipo': 'ruido', \n",
    "              'varianza': (1, 1, 1) # Uso de tuplas para las frecuencias \n",
    "             } \n",
    "sig_props['descripcion'] = [ '$\\sigma^2$ = ' + str(a_var) for a_var in sig_props['varianza'] ]\n",
    "    \n",
    "# Invocamos a nuestro testbench exclusivamente: \n",
    "my_testbench( sig_props )\n"
   ]
  },
  {
   "cell_type": "markdown",
   "metadata": {},
   "source": [
    "Como puede verse en la figura anterior, al samplear una distribución estadística de media nula y varianza $\\sigma^2=1$, obtenemos realizaciones cuyo parámetro $\\sigma^2$ estimado, es decir $\\hat\\sigma^2$, tienen una desviación respecto al verdadero valor (sesgo). Nos ocuparemos de estudiar el sesgo y la varianza de algunos estimadores cuando veamos **Estimación Espectral**."
   ]
  },
  {
   "cell_type": "markdown",
   "metadata": {},
   "source": [
    "# Una vez terminado ...\n",
    "Una vez que hayas termiando con la confección del documento, podemos utilizar una ventaja muy importante de este tipo de documentos que es la posibilidad de compartirlos *online* mediante la [página de nbviewer](http://nbviewer.jupyter.org/). Para ello es necesario que tu notebook y todos los recursos asociados estén alojados en un repositorio de [Github](https://github.com/). Como ejemplo, podés ver este mismo documento disponible [online](http://nbviewer.jupyter.org/github/marianux/pdstestbench/blob/master/notebook0.ipynb)."
   ]
  },
  {
   "cell_type": "markdown",
   "metadata": {},
   "source": [
    "# Modificaciones Realizadas\n",
    "### 1. No pude correr el programa, me sale un error."
   ]
  }
 ],
 "metadata": {
  "kernelspec": {
   "display_name": "Python 3 (ipykernel)",
   "language": "python",
   "name": "python3"
  },
  "language_info": {
   "codemirror_mode": {
    "name": "ipython",
    "version": 3
   },
   "file_extension": ".py",
   "mimetype": "text/x-python",
   "name": "python",
   "nbconvert_exporter": "python",
   "pygments_lexer": "ipython3",
   "version": "3.8.10"
  }
 },
 "nbformat": 4,
 "nbformat_minor": 2
}
